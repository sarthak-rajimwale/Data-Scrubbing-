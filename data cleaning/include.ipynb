{
 "cells": [
  {
   "cell_type": "code",
   "execution_count": 40,
   "metadata": {},
   "outputs": [],
   "source": [
    "import pandas as pd\n",
    "import seaborn as sns\n",
    "import matplotlib.pyplot as plt\n",
    "from sklearn.impute import SimpleImputer\n"
   ]
  },
  {
   "cell_type": "code",
   "execution_count": 2,
   "metadata": {},
   "outputs": [],
   "source": [
    "df=pd.read_csv('unclean_data.csv')"
   ]
  },
  {
   "cell_type": "code",
   "execution_count": 3,
   "metadata": {},
   "outputs": [
    {
     "data": {
      "text/html": [
       "<div>\n",
       "<style scoped>\n",
       "    .dataframe tbody tr th:only-of-type {\n",
       "        vertical-align: middle;\n",
       "    }\n",
       "\n",
       "    .dataframe tbody tr th {\n",
       "        vertical-align: top;\n",
       "    }\n",
       "\n",
       "    .dataframe thead th {\n",
       "        text-align: right;\n",
       "    }\n",
       "</style>\n",
       "<table border=\"1\" class=\"dataframe\">\n",
       "  <thead>\n",
       "    <tr style=\"text-align: right;\">\n",
       "      <th></th>\n",
       "      <th>ID</th>\n",
       "      <th>Age</th>\n",
       "      <th>Gender</th>\n",
       "      <th>Height (cm)</th>\n",
       "      <th>Weight (kg)</th>\n",
       "      <th>Income ($)</th>\n",
       "      <th>Education Level</th>\n",
       "    </tr>\n",
       "  </thead>\n",
       "  <tbody>\n",
       "    <tr>\n",
       "      <th>0</th>\n",
       "      <td>3887</td>\n",
       "      <td>21</td>\n",
       "      <td>NaN</td>\n",
       "      <td>187</td>\n",
       "      <td>71</td>\n",
       "      <td>NaN</td>\n",
       "      <td>Bachelor's</td>\n",
       "    </tr>\n",
       "    <tr>\n",
       "      <th>1</th>\n",
       "      <td>93906</td>\n",
       "      <td>37</td>\n",
       "      <td>NaN</td>\n",
       "      <td>172</td>\n",
       "      <td>47</td>\n",
       "      <td>NaN</td>\n",
       "      <td>NaN</td>\n",
       "    </tr>\n",
       "    <tr>\n",
       "      <th>2</th>\n",
       "      <td>4179</td>\n",
       "      <td>24</td>\n",
       "      <td>Female</td>\n",
       "      <td>146</td>\n",
       "      <td>106</td>\n",
       "      <td>NaN</td>\n",
       "      <td>NaN</td>\n",
       "    </tr>\n",
       "    <tr>\n",
       "      <th>3</th>\n",
       "      <td>33794</td>\n",
       "      <td>31</td>\n",
       "      <td>NaN</td>\n",
       "      <td>190</td>\n",
       "      <td>66</td>\n",
       "      <td>74043</td>\n",
       "      <td>Bachelor's</td>\n",
       "    </tr>\n",
       "    <tr>\n",
       "      <th>4</th>\n",
       "      <td>52309</td>\n",
       "      <td>74</td>\n",
       "      <td>Female</td>\n",
       "      <td>181</td>\n",
       "      <td>60</td>\n",
       "      <td>82046</td>\n",
       "      <td>NaN</td>\n",
       "    </tr>\n",
       "    <tr>\n",
       "      <th>...</th>\n",
       "      <td>...</td>\n",
       "      <td>...</td>\n",
       "      <td>...</td>\n",
       "      <td>...</td>\n",
       "      <td>...</td>\n",
       "      <td>...</td>\n",
       "      <td>...</td>\n",
       "    </tr>\n",
       "    <tr>\n",
       "      <th>995</th>\n",
       "      <td>98674</td>\n",
       "      <td>48</td>\n",
       "      <td>NaN</td>\n",
       "      <td>192</td>\n",
       "      <td>127</td>\n",
       "      <td>14709</td>\n",
       "      <td>NaN</td>\n",
       "    </tr>\n",
       "    <tr>\n",
       "      <th>996</th>\n",
       "      <td>37733</td>\n",
       "      <td>69</td>\n",
       "      <td>Male</td>\n",
       "      <td>168</td>\n",
       "      <td>114</td>\n",
       "      <td>NaN</td>\n",
       "      <td>NaN</td>\n",
       "    </tr>\n",
       "    <tr>\n",
       "      <th>997</th>\n",
       "      <td>7064</td>\n",
       "      <td>90</td>\n",
       "      <td>Male</td>\n",
       "      <td>195</td>\n",
       "      <td>Heavy</td>\n",
       "      <td>NaN</td>\n",
       "      <td>Master's</td>\n",
       "    </tr>\n",
       "    <tr>\n",
       "      <th>998</th>\n",
       "      <td>51200</td>\n",
       "      <td>64</td>\n",
       "      <td>Female</td>\n",
       "      <td>153</td>\n",
       "      <td>82</td>\n",
       "      <td>89681</td>\n",
       "      <td>High School</td>\n",
       "    </tr>\n",
       "    <tr>\n",
       "      <th>999</th>\n",
       "      <td>85292</td>\n",
       "      <td>30</td>\n",
       "      <td>Female</td>\n",
       "      <td>164</td>\n",
       "      <td>89</td>\n",
       "      <td>NaN</td>\n",
       "      <td>Master's</td>\n",
       "    </tr>\n",
       "  </tbody>\n",
       "</table>\n",
       "<p>1000 rows × 7 columns</p>\n",
       "</div>"
      ],
      "text/plain": [
       "        ID Age  Gender Height (cm) Weight (kg) Income ($) Education Level\n",
       "0     3887  21     NaN         187          71        NaN      Bachelor's\n",
       "1    93906  37     NaN         172          47        NaN             NaN\n",
       "2     4179  24  Female         146         106        NaN             NaN\n",
       "3    33794  31     NaN         190          66      74043      Bachelor's\n",
       "4    52309  74  Female         181          60      82046             NaN\n",
       "..     ...  ..     ...         ...         ...        ...             ...\n",
       "995  98674  48     NaN         192         127      14709             NaN\n",
       "996  37733  69    Male         168         114        NaN             NaN\n",
       "997   7064  90    Male         195       Heavy        NaN        Master's\n",
       "998  51200  64  Female         153          82      89681     High School\n",
       "999  85292  30  Female         164          89        NaN        Master's\n",
       "\n",
       "[1000 rows x 7 columns]"
      ]
     },
     "execution_count": 3,
     "metadata": {},
     "output_type": "execute_result"
    }
   ],
   "source": [
    "df"
   ]
  },
  {
   "cell_type": "code",
   "execution_count": 11,
   "metadata": {},
   "outputs": [],
   "source": [
    "def clean_age(age):\n",
    "    age_str = str(age)\n",
    "    \n",
    "    if age_str.isdigit():\n",
    "        return age\n",
    "    else:\n",
    "        return None\n",
    "df['Age'] = df['Age'].apply(clean_age)"
   ]
  },
  {
   "cell_type": "code",
   "execution_count": 16,
   "metadata": {},
   "outputs": [
    {
     "name": "stdout",
     "output_type": "stream",
     "text": [
      "        ID   Age  Gender Height (cm) Weight (kg) Income ($) Education Level\n",
      "0     3887  21.0     NaN         187          71        NaN      Bachelor's\n",
      "1    93906  37.0     NaN         172          47        NaN             NaN\n",
      "2     4179  24.0  Female         146         106        NaN             NaN\n",
      "3    33794  31.0     NaN         190          66      74043      Bachelor's\n",
      "4    52309  74.0  Female         181          60      82046             NaN\n",
      "..     ...   ...     ...         ...         ...        ...             ...\n",
      "995  98674  48.0     NaN         192         127      14709             NaN\n",
      "996  37733  69.0    Male         168         114        NaN             NaN\n",
      "997   7064  90.0    Male         195       Heavy        NaN        Master's\n",
      "998  51200  64.0  Female         153          82      89681     High School\n",
      "999  85292  30.0  Female         164          89        NaN        Master's\n",
      "\n",
      "[1000 rows x 7 columns]\n"
     ]
    }
   ],
   "source": [
    "df['Age'] = pd.to_numeric(df['Age'], errors='coerce')\n",
    "\n",
    "average_age = df['Age'].mean()\n",
    "\n",
    "df['Age'] = df['Age'].fillna(average_age)\n",
    "\n",
    "print(df)"
   ]
  },
  {
   "cell_type": "code",
   "execution_count": 30,
   "metadata": {},
   "outputs": [
    {
     "data": {
      "text/html": [
       "<div>\n",
       "<style scoped>\n",
       "    .dataframe tbody tr th:only-of-type {\n",
       "        vertical-align: middle;\n",
       "    }\n",
       "\n",
       "    .dataframe tbody tr th {\n",
       "        vertical-align: top;\n",
       "    }\n",
       "\n",
       "    .dataframe thead th {\n",
       "        text-align: right;\n",
       "    }\n",
       "</style>\n",
       "<table border=\"1\" class=\"dataframe\">\n",
       "  <thead>\n",
       "    <tr style=\"text-align: right;\">\n",
       "      <th></th>\n",
       "      <th>ID</th>\n",
       "      <th>Age</th>\n",
       "      <th>Gender</th>\n",
       "      <th>Height (cm)</th>\n",
       "      <th>Weight (kg)</th>\n",
       "      <th>Income ($)</th>\n",
       "      <th>Education Level</th>\n",
       "    </tr>\n",
       "  </thead>\n",
       "  <tbody>\n",
       "    <tr>\n",
       "      <th>0</th>\n",
       "      <td>3887</td>\n",
       "      <td>21.0</td>\n",
       "      <td>NaN</td>\n",
       "      <td>187</td>\n",
       "      <td>71</td>\n",
       "      <td>NaN</td>\n",
       "      <td>Bachelor's</td>\n",
       "    </tr>\n",
       "    <tr>\n",
       "      <th>1</th>\n",
       "      <td>93906</td>\n",
       "      <td>37.0</td>\n",
       "      <td>NaN</td>\n",
       "      <td>172</td>\n",
       "      <td>47</td>\n",
       "      <td>NaN</td>\n",
       "      <td>NaN</td>\n",
       "    </tr>\n",
       "    <tr>\n",
       "      <th>2</th>\n",
       "      <td>4179</td>\n",
       "      <td>24.0</td>\n",
       "      <td>Female</td>\n",
       "      <td>146</td>\n",
       "      <td>106</td>\n",
       "      <td>NaN</td>\n",
       "      <td>NaN</td>\n",
       "    </tr>\n",
       "    <tr>\n",
       "      <th>3</th>\n",
       "      <td>33794</td>\n",
       "      <td>31.0</td>\n",
       "      <td>NaN</td>\n",
       "      <td>190</td>\n",
       "      <td>66</td>\n",
       "      <td>74043</td>\n",
       "      <td>Bachelor's</td>\n",
       "    </tr>\n",
       "    <tr>\n",
       "      <th>4</th>\n",
       "      <td>52309</td>\n",
       "      <td>74.0</td>\n",
       "      <td>Female</td>\n",
       "      <td>181</td>\n",
       "      <td>60</td>\n",
       "      <td>82046</td>\n",
       "      <td>NaN</td>\n",
       "    </tr>\n",
       "    <tr>\n",
       "      <th>...</th>\n",
       "      <td>...</td>\n",
       "      <td>...</td>\n",
       "      <td>...</td>\n",
       "      <td>...</td>\n",
       "      <td>...</td>\n",
       "      <td>...</td>\n",
       "      <td>...</td>\n",
       "    </tr>\n",
       "    <tr>\n",
       "      <th>995</th>\n",
       "      <td>98674</td>\n",
       "      <td>48.0</td>\n",
       "      <td>NaN</td>\n",
       "      <td>192</td>\n",
       "      <td>127</td>\n",
       "      <td>14709</td>\n",
       "      <td>NaN</td>\n",
       "    </tr>\n",
       "    <tr>\n",
       "      <th>996</th>\n",
       "      <td>37733</td>\n",
       "      <td>69.0</td>\n",
       "      <td>Male</td>\n",
       "      <td>168</td>\n",
       "      <td>114</td>\n",
       "      <td>NaN</td>\n",
       "      <td>NaN</td>\n",
       "    </tr>\n",
       "    <tr>\n",
       "      <th>997</th>\n",
       "      <td>7064</td>\n",
       "      <td>90.0</td>\n",
       "      <td>Male</td>\n",
       "      <td>195</td>\n",
       "      <td>Heavy</td>\n",
       "      <td>NaN</td>\n",
       "      <td>Master's</td>\n",
       "    </tr>\n",
       "    <tr>\n",
       "      <th>998</th>\n",
       "      <td>51200</td>\n",
       "      <td>64.0</td>\n",
       "      <td>Female</td>\n",
       "      <td>153</td>\n",
       "      <td>82</td>\n",
       "      <td>89681</td>\n",
       "      <td>High School</td>\n",
       "    </tr>\n",
       "    <tr>\n",
       "      <th>999</th>\n",
       "      <td>85292</td>\n",
       "      <td>30.0</td>\n",
       "      <td>Female</td>\n",
       "      <td>164</td>\n",
       "      <td>89</td>\n",
       "      <td>NaN</td>\n",
       "      <td>Master's</td>\n",
       "    </tr>\n",
       "  </tbody>\n",
       "</table>\n",
       "<p>1000 rows × 7 columns</p>\n",
       "</div>"
      ],
      "text/plain": [
       "        ID   Age  Gender Height (cm) Weight (kg) Income ($) Education Level\n",
       "0     3887  21.0     NaN         187          71        NaN      Bachelor's\n",
       "1    93906  37.0     NaN         172          47        NaN             NaN\n",
       "2     4179  24.0  Female         146         106        NaN             NaN\n",
       "3    33794  31.0     NaN         190          66      74043      Bachelor's\n",
       "4    52309  74.0  Female         181          60      82046             NaN\n",
       "..     ...   ...     ...         ...         ...        ...             ...\n",
       "995  98674  48.0     NaN         192         127      14709             NaN\n",
       "996  37733  69.0    Male         168         114        NaN             NaN\n",
       "997   7064  90.0    Male         195       Heavy        NaN        Master's\n",
       "998  51200  64.0  Female         153          82      89681     High School\n",
       "999  85292  30.0  Female         164          89        NaN        Master's\n",
       "\n",
       "[1000 rows x 7 columns]"
      ]
     },
     "execution_count": 30,
     "metadata": {},
     "output_type": "execute_result"
    }
   ],
   "source": [
    "pd.set_option('display.max_rows', 85)\n",
    "pd.set_option('display.max_columns', None)\n",
    "df"
   ]
  },
  {
   "cell_type": "code",
   "execution_count": 42,
   "metadata": {},
   "outputs": [
    {
     "name": "stdout",
     "output_type": "stream",
     "text": [
      "        ID   Age  Gender  Height (cm) Weight (kg) Income ($) Education Level\n",
      "0     3887  21.0     NaN        187.0          71        NaN      Bachelor's\n",
      "1    93906  37.0     NaN        172.0          47        NaN             NaN\n",
      "2     4179  24.0  Female        146.0         106        NaN             NaN\n",
      "3    33794  31.0     NaN        190.0          66      74043      Bachelor's\n",
      "4    52309  74.0  Female        181.0          60      82046             NaN\n",
      "..     ...   ...     ...          ...         ...        ...             ...\n",
      "995  98674  48.0     NaN        192.0         127      14709             NaN\n",
      "996  37733  69.0    Male        168.0         114        NaN             NaN\n",
      "997   7064  90.0    Male        195.0       Heavy        NaN        Master's\n",
      "998  51200  64.0  Female        153.0          82      89681     High School\n",
      "999  85292  30.0  Female        164.0          89        NaN        Master's\n",
      "\n",
      "[1000 rows x 7 columns]\n"
     ]
    }
   ],
   "source": [
    "df['Height (cm)'] = pd.to_numeric(df['Height (cm)'], errors='coerce')\n",
    "\n",
    "average_height = df['Height (cm)'].mean()\n",
    "\n",
    "df['Height (cm)'] = df['Height (cm)'].fillna(average_height)\n",
    "\n",
    "print(df)"
   ]
  },
  {
   "cell_type": "code",
   "execution_count": 43,
   "metadata": {},
   "outputs": [
    {
     "name": "stdout",
     "output_type": "stream",
     "text": [
      "        ID   Age  Gender  Height (cm)  Weight (kg) Income ($) Education Level\n",
      "0     3887  21.0     NaN        187.0    71.000000        NaN      Bachelor's\n",
      "1    93906  37.0     NaN        172.0    47.000000        NaN             NaN\n",
      "2     4179  24.0  Female        146.0   106.000000        NaN             NaN\n",
      "3    33794  31.0     NaN        190.0    66.000000      74043      Bachelor's\n",
      "4    52309  74.0  Female        181.0    60.000000      82046             NaN\n",
      "..     ...   ...     ...          ...          ...        ...             ...\n",
      "995  98674  48.0     NaN        192.0   127.000000      14709             NaN\n",
      "996  37733  69.0    Male        168.0   114.000000        NaN             NaN\n",
      "997   7064  90.0    Male        195.0    94.621457        NaN        Master's\n",
      "998  51200  64.0  Female        153.0    82.000000      89681     High School\n",
      "999  85292  30.0  Female        164.0    89.000000        NaN        Master's\n",
      "\n",
      "[1000 rows x 7 columns]\n"
     ]
    }
   ],
   "source": [
    "df['Weight (kg)'] = pd.to_numeric(df['Weight (kg)'], errors='coerce')\n",
    "\n",
    "average_height = df['Weight (kg)'].mean()\n",
    "\n",
    "df['Weight (kg)'] = df['Weight (kg)'].fillna(average_height)\n",
    "\n",
    "print(df)"
   ]
  },
  {
   "cell_type": "code",
   "execution_count": 57,
   "metadata": {},
   "outputs": [
    {
     "name": "stdout",
     "output_type": "stream",
     "text": [
      "        ID  Gender    Income ($) Education Level   Age  Height (cm)  \\\n",
      "0     3887     NaN  50292.895082      Bachelor's  21.0        187.0   \n",
      "1    93906     NaN  50292.895082             NaN  37.0        172.0   \n",
      "2     4179  Female  50292.895082             NaN  24.0        146.0   \n",
      "3    33794     NaN  74043.000000      Bachelor's  31.0        190.0   \n",
      "4    52309  Female  82046.000000             NaN  74.0        181.0   \n",
      "..     ...     ...           ...             ...   ...          ...   \n",
      "995  98674     NaN  14709.000000             NaN  48.0        192.0   \n",
      "996  37733    Male  50292.895082             NaN  69.0        168.0   \n",
      "997   7064    Male  50292.895082        Master's  90.0        195.0   \n",
      "998  51200  Female  89681.000000     High School  64.0        153.0   \n",
      "999  85292  Female  50292.895082        Master's  30.0        164.0   \n",
      "\n",
      "     Weight (kg)  \n",
      "0      71.000000  \n",
      "1      47.000000  \n",
      "2     106.000000  \n",
      "3      66.000000  \n",
      "4      60.000000  \n",
      "..           ...  \n",
      "995   127.000000  \n",
      "996   114.000000  \n",
      "997    94.621457  \n",
      "998    82.000000  \n",
      "999    89.000000  \n",
      "\n",
      "[1000 rows x 7 columns]\n"
     ]
    }
   ],
   "source": [
    "df['Income ($)'] = pd.to_numeric(df['Income ($)'], errors='coerce')\n",
    "\n",
    "average_height = df['Income ($)'].mean()\n",
    "\n",
    "df['Income ($)'] = df['Income ($)'].fillna(average_height)\n",
    "\n",
    "print(df)"
   ]
  },
  {
   "cell_type": "code",
   "execution_count": 34,
   "metadata": {},
   "outputs": [
    {
     "data": {
      "text/plain": [
       "0      21.0\n",
       "1      37.0\n",
       "2      24.0\n",
       "3      31.0\n",
       "4      74.0\n",
       "       ... \n",
       "195    82.0\n",
       "196    83.0\n",
       "197    69.0\n",
       "198    34.0\n",
       "199    18.0\n",
       "Name: Age, Length: 200, dtype: float64"
      ]
     },
     "execution_count": 34,
     "metadata": {},
     "output_type": "execute_result"
    }
   ],
   "source": [
    "df['Age'].head(200)"
   ]
  },
  {
   "cell_type": "code",
   "execution_count": 19,
   "metadata": {},
   "outputs": [
    {
     "data": {
      "text/html": [
       "<div>\n",
       "<style scoped>\n",
       "    .dataframe tbody tr th:only-of-type {\n",
       "        vertical-align: middle;\n",
       "    }\n",
       "\n",
       "    .dataframe tbody tr th {\n",
       "        vertical-align: top;\n",
       "    }\n",
       "\n",
       "    .dataframe thead th {\n",
       "        text-align: right;\n",
       "    }\n",
       "</style>\n",
       "<table border=\"1\" class=\"dataframe\">\n",
       "  <thead>\n",
       "    <tr style=\"text-align: right;\">\n",
       "      <th></th>\n",
       "      <th>ID</th>\n",
       "      <th>Age</th>\n",
       "      <th>Gender</th>\n",
       "      <th>Height (cm)</th>\n",
       "      <th>Weight (kg)</th>\n",
       "      <th>Income ($)</th>\n",
       "      <th>Education Level</th>\n",
       "    </tr>\n",
       "  </thead>\n",
       "  <tbody>\n",
       "  </tbody>\n",
       "</table>\n",
       "</div>"
      ],
      "text/plain": [
       "Empty DataFrame\n",
       "Columns: [ID, Age, Gender, Height (cm), Weight (kg), Income ($), Education Level]\n",
       "Index: []"
      ]
     },
     "execution_count": 19,
     "metadata": {},
     "output_type": "execute_result"
    }
   ],
   "source": [
    "filt=(df['Age']==None)\n",
    "df.loc[filt]"
   ]
  },
  {
   "cell_type": "code",
   "execution_count": 45,
   "metadata": {},
   "outputs": [
    {
     "data": {
      "text/plain": [
       "Index(['Age', 'Height (cm)', 'Weight (kg)'], dtype='object')"
      ]
     },
     "execution_count": 45,
     "metadata": {},
     "output_type": "execute_result"
    }
   ],
   "source": [
    "df.select_dtypes(include=\"float\").columns"
   ]
  },
  {
   "cell_type": "code",
   "execution_count": 71,
   "metadata": {},
   "outputs": [],
   "source": [
    "si=SimpleImputer(strategy=\"mean\")\n",
    "ar=si.fit_transform(df[['Height (cm)', 'Weight (kg)']])"
   ]
  },
  {
   "cell_type": "code",
   "execution_count": 73,
   "metadata": {},
   "outputs": [],
   "source": [
    "df_=pd.DataFrame(ar,columns=df[['Height (cm)', 'Weight (kg)']].columns)\n",
    "df = pd.concat([df.drop(columns=['Height (cm)', 'Weight (kg)']), df_], axis=1)"
   ]
  },
  {
   "cell_type": "code",
   "execution_count": 74,
   "metadata": {},
   "outputs": [],
   "source": [
    "df['Gender'].fillna(df['Gender'].mode()[0],inplace=True)"
   ]
  },
  {
   "cell_type": "code",
   "execution_count": 75,
   "metadata": {},
   "outputs": [],
   "source": [
    "df['Education Level'].fillna(df['Education Level'].mode()[0],inplace=True)"
   ]
  },
  {
   "cell_type": "code",
   "execution_count": 66,
   "metadata": {},
   "outputs": [
    {
     "data": {
      "text/plain": [
       "Education Level\n",
       "PhD             519\n",
       "Master's        172\n",
       "High School     170\n",
       "Bachelor's      134\n",
       "Graduate          3\n",
       "Non-graduate      2\n",
       "Name: count, dtype: int64"
      ]
     },
     "execution_count": 66,
     "metadata": {},
     "output_type": "execute_result"
    }
   ],
   "source": [
    "df['Education Level'].value_counts()"
   ]
  },
  {
   "cell_type": "code",
   "execution_count": 76,
   "metadata": {},
   "outputs": [
    {
     "data": {
      "text/plain": [
       "ID                 0\n",
       "Gender             0\n",
       "Education Level    0\n",
       "Income ($)         0\n",
       "Age                0\n",
       "Height (cm)        0\n",
       "Weight (kg)        0\n",
       "dtype: int64"
      ]
     },
     "execution_count": 76,
     "metadata": {},
     "output_type": "execute_result"
    }
   ],
   "source": [
    "df.isnull().sum()"
   ]
  },
  {
   "cell_type": "code",
   "execution_count": 69,
   "metadata": {},
   "outputs": [],
   "source": [
    "df.to_csv('cleaned_data.csv')"
   ]
  }
 ],
 "metadata": {
  "kernelspec": {
   "display_name": "Python 3",
   "language": "python",
   "name": "python3"
  },
  "language_info": {
   "codemirror_mode": {
    "name": "ipython",
    "version": 3
   },
   "file_extension": ".py",
   "mimetype": "text/x-python",
   "name": "python",
   "nbconvert_exporter": "python",
   "pygments_lexer": "ipython3",
   "version": "3.11.4"
  }
 },
 "nbformat": 4,
 "nbformat_minor": 2
}
