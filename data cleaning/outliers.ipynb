{
 "cells": [
  {
   "cell_type": "code",
   "execution_count": 1,
   "metadata": {},
   "outputs": [],
   "source": [
    "import pandas as pd\n",
    "import seaborn as sns\n",
    "import matplotlib.pyplot as plt\n",
    "from sklearn.impute import SimpleImputer\n",
    "from sklearn.preprocessing import OneHotEncoder\n",
    "from sklearn.preprocessing import LabelEncoder\n",
    "from sklearn.preprocessing import OrdinalEncoder"
   ]
  },
  {
   "cell_type": "code",
   "execution_count": 2,
   "metadata": {},
   "outputs": [],
   "source": [
    "df=pd.read_csv('unclean_data.csv')"
   ]
  },
  {
   "cell_type": "code",
   "execution_count": 3,
   "metadata": {},
   "outputs": [
    {
     "data": {
      "text/html": [
       "<div>\n",
       "<style scoped>\n",
       "    .dataframe tbody tr th:only-of-type {\n",
       "        vertical-align: middle;\n",
       "    }\n",
       "\n",
       "    .dataframe tbody tr th {\n",
       "        vertical-align: top;\n",
       "    }\n",
       "\n",
       "    .dataframe thead th {\n",
       "        text-align: right;\n",
       "    }\n",
       "</style>\n",
       "<table border=\"1\" class=\"dataframe\">\n",
       "  <thead>\n",
       "    <tr style=\"text-align: right;\">\n",
       "      <th></th>\n",
       "      <th>ID</th>\n",
       "      <th>Age</th>\n",
       "      <th>Gender</th>\n",
       "      <th>Height (cm)</th>\n",
       "      <th>Weight (kg)</th>\n",
       "      <th>Income ($)</th>\n",
       "      <th>Education Level</th>\n",
       "    </tr>\n",
       "  </thead>\n",
       "  <tbody>\n",
       "    <tr>\n",
       "      <th>0</th>\n",
       "      <td>3887</td>\n",
       "      <td>21</td>\n",
       "      <td>NaN</td>\n",
       "      <td>187</td>\n",
       "      <td>71</td>\n",
       "      <td>NaN</td>\n",
       "      <td>Bachelor's</td>\n",
       "    </tr>\n",
       "    <tr>\n",
       "      <th>1</th>\n",
       "      <td>93906</td>\n",
       "      <td>37</td>\n",
       "      <td>NaN</td>\n",
       "      <td>172</td>\n",
       "      <td>47</td>\n",
       "      <td>NaN</td>\n",
       "      <td>NaN</td>\n",
       "    </tr>\n",
       "    <tr>\n",
       "      <th>2</th>\n",
       "      <td>4179</td>\n",
       "      <td>24</td>\n",
       "      <td>Female</td>\n",
       "      <td>146</td>\n",
       "      <td>106</td>\n",
       "      <td>NaN</td>\n",
       "      <td>NaN</td>\n",
       "    </tr>\n",
       "    <tr>\n",
       "      <th>3</th>\n",
       "      <td>33794</td>\n",
       "      <td>31</td>\n",
       "      <td>NaN</td>\n",
       "      <td>190</td>\n",
       "      <td>66</td>\n",
       "      <td>74043</td>\n",
       "      <td>Bachelor's</td>\n",
       "    </tr>\n",
       "    <tr>\n",
       "      <th>4</th>\n",
       "      <td>52309</td>\n",
       "      <td>74</td>\n",
       "      <td>Female</td>\n",
       "      <td>181</td>\n",
       "      <td>60</td>\n",
       "      <td>82046</td>\n",
       "      <td>NaN</td>\n",
       "    </tr>\n",
       "    <tr>\n",
       "      <th>...</th>\n",
       "      <td>...</td>\n",
       "      <td>...</td>\n",
       "      <td>...</td>\n",
       "      <td>...</td>\n",
       "      <td>...</td>\n",
       "      <td>...</td>\n",
       "      <td>...</td>\n",
       "    </tr>\n",
       "    <tr>\n",
       "      <th>995</th>\n",
       "      <td>98674</td>\n",
       "      <td>48</td>\n",
       "      <td>NaN</td>\n",
       "      <td>192</td>\n",
       "      <td>127</td>\n",
       "      <td>14709</td>\n",
       "      <td>NaN</td>\n",
       "    </tr>\n",
       "    <tr>\n",
       "      <th>996</th>\n",
       "      <td>37733</td>\n",
       "      <td>69</td>\n",
       "      <td>Male</td>\n",
       "      <td>168</td>\n",
       "      <td>114</td>\n",
       "      <td>NaN</td>\n",
       "      <td>NaN</td>\n",
       "    </tr>\n",
       "    <tr>\n",
       "      <th>997</th>\n",
       "      <td>7064</td>\n",
       "      <td>90</td>\n",
       "      <td>Male</td>\n",
       "      <td>195</td>\n",
       "      <td>Heavy</td>\n",
       "      <td>NaN</td>\n",
       "      <td>Master's</td>\n",
       "    </tr>\n",
       "    <tr>\n",
       "      <th>998</th>\n",
       "      <td>51200</td>\n",
       "      <td>64</td>\n",
       "      <td>Female</td>\n",
       "      <td>153</td>\n",
       "      <td>82</td>\n",
       "      <td>89681</td>\n",
       "      <td>High School</td>\n",
       "    </tr>\n",
       "    <tr>\n",
       "      <th>999</th>\n",
       "      <td>85292</td>\n",
       "      <td>30</td>\n",
       "      <td>Female</td>\n",
       "      <td>164</td>\n",
       "      <td>89</td>\n",
       "      <td>NaN</td>\n",
       "      <td>Master's</td>\n",
       "    </tr>\n",
       "  </tbody>\n",
       "</table>\n",
       "<p>1000 rows × 7 columns</p>\n",
       "</div>"
      ],
      "text/plain": [
       "        ID Age  Gender Height (cm) Weight (kg) Income ($) Education Level\n",
       "0     3887  21     NaN         187          71        NaN      Bachelor's\n",
       "1    93906  37     NaN         172          47        NaN             NaN\n",
       "2     4179  24  Female         146         106        NaN             NaN\n",
       "3    33794  31     NaN         190          66      74043      Bachelor's\n",
       "4    52309  74  Female         181          60      82046             NaN\n",
       "..     ...  ..     ...         ...         ...        ...             ...\n",
       "995  98674  48     NaN         192         127      14709             NaN\n",
       "996  37733  69    Male         168         114        NaN             NaN\n",
       "997   7064  90    Male         195       Heavy        NaN        Master's\n",
       "998  51200  64  Female         153          82      89681     High School\n",
       "999  85292  30  Female         164          89        NaN        Master's\n",
       "\n",
       "[1000 rows x 7 columns]"
      ]
     },
     "execution_count": 3,
     "metadata": {},
     "output_type": "execute_result"
    }
   ],
   "source": [
    "df"
   ]
  },
  {
   "cell_type": "code",
   "execution_count": 4,
   "metadata": {},
   "outputs": [
    {
     "data": {
      "text/plain": [
       "ID                   0\n",
       "Age                 11\n",
       "Gender             315\n",
       "Height (cm)          6\n",
       "Weight (kg)          6\n",
       "Income ($)         679\n",
       "Education Level    340\n",
       "dtype: int64"
      ]
     },
     "execution_count": 4,
     "metadata": {},
     "output_type": "execute_result"
    }
   ],
   "source": [
    "df.isnull().sum()"
   ]
  },
  {
   "cell_type": "code",
   "execution_count": 5,
   "metadata": {},
   "outputs": [
    {
     "name": "stdout",
     "output_type": "stream",
     "text": [
      "        ID   Age  Gender Height (cm) Weight (kg) Income ($) Education Level\n",
      "0     3887  21.0     NaN         187          71        NaN      Bachelor's\n",
      "1    93906  37.0     NaN         172          47        NaN             NaN\n",
      "2     4179  24.0  Female         146         106        NaN             NaN\n",
      "3    33794  31.0     NaN         190          66      74043      Bachelor's\n",
      "4    52309  74.0  Female         181          60      82046             NaN\n",
      "..     ...   ...     ...         ...         ...        ...             ...\n",
      "995  98674  48.0     NaN         192         127      14709             NaN\n",
      "996  37733  69.0    Male         168         114        NaN             NaN\n",
      "997   7064  90.0    Male         195       Heavy        NaN        Master's\n",
      "998  51200  64.0  Female         153          82      89681     High School\n",
      "999  85292  30.0  Female         164          89        NaN        Master's\n",
      "\n",
      "[1000 rows x 7 columns]\n"
     ]
    }
   ],
   "source": [
    "df['Age'] = pd.to_numeric(df['Age'], errors='coerce')\n",
    "\n",
    "average_age = df['Age'].mean()\n",
    "\n",
    "df['Age'] = df['Age'].fillna(average_age)\n",
    "\n",
    "print(df)"
   ]
  },
  {
   "cell_type": "code",
   "execution_count": 7,
   "metadata": {},
   "outputs": [
    {
     "data": {
      "text/plain": [
       "ID                   0\n",
       "Age                  0\n",
       "Gender             315\n",
       "Height (cm)          6\n",
       "Weight (kg)          6\n",
       "Income ($)         679\n",
       "Education Level    340\n",
       "dtype: int64"
      ]
     },
     "execution_count": 7,
     "metadata": {},
     "output_type": "execute_result"
    }
   ],
   "source": [
    "df.isnull().sum()"
   ]
  },
  {
   "cell_type": "code",
   "execution_count": 9,
   "metadata": {},
   "outputs": [],
   "source": [
    "df['Gender'].fillna(df['Gender'].mode()[0],inplace=True)"
   ]
  },
  {
   "cell_type": "code",
   "execution_count": 10,
   "metadata": {},
   "outputs": [
    {
     "data": {
      "text/plain": [
       "ID                   0\n",
       "Age                  0\n",
       "Gender               0\n",
       "Height (cm)          6\n",
       "Weight (kg)          6\n",
       "Income ($)         679\n",
       "Education Level    340\n",
       "dtype: int64"
      ]
     },
     "execution_count": 10,
     "metadata": {},
     "output_type": "execute_result"
    }
   ],
   "source": [
    "df.isnull().sum()"
   ]
  },
  {
   "cell_type": "code",
   "execution_count": 12,
   "metadata": {},
   "outputs": [
    {
     "name": "stdout",
     "output_type": "stream",
     "text": [
      "The column contains non-integer values.\n"
     ]
    }
   ],
   "source": [
    "try:\n",
    "    pd.to_numeric(df['Height (cm)'])\n",
    "    print(\"All values are integers in the column.\")\n",
    "except ValueError:\n",
    "    print(\"The column contains non-integer values.\")"
   ]
  },
  {
   "cell_type": "code",
   "execution_count": 13,
   "metadata": {},
   "outputs": [
    {
     "name": "stdout",
     "output_type": "stream",
     "text": [
      "        ID   Age  Gender  Height (cm) Weight (kg) Income ($) Education Level\n",
      "0     3887  21.0    Male        187.0          71        NaN      Bachelor's\n",
      "1    93906  37.0    Male        172.0          47        NaN             NaN\n",
      "2     4179  24.0  Female        146.0         106        NaN             NaN\n",
      "3    33794  31.0    Male        190.0          66      74043      Bachelor's\n",
      "4    52309  74.0  Female        181.0          60      82046             NaN\n",
      "..     ...   ...     ...          ...         ...        ...             ...\n",
      "995  98674  48.0    Male        192.0         127      14709             NaN\n",
      "996  37733  69.0    Male        168.0         114        NaN             NaN\n",
      "997   7064  90.0    Male        195.0       Heavy        NaN        Master's\n",
      "998  51200  64.0  Female        153.0          82      89681     High School\n",
      "999  85292  30.0  Female        164.0          89        NaN        Master's\n",
      "\n",
      "[1000 rows x 7 columns]\n"
     ]
    }
   ],
   "source": [
    "df['Height (cm)'] = pd.to_numeric(df['Height (cm)'], errors='coerce')\n",
    "\n",
    "average_height = df['Height (cm)'].mean()\n",
    "\n",
    "df['Height (cm)'] = df['Height (cm)'].fillna(average_height)\n",
    "\n",
    "print(df)"
   ]
  },
  {
   "cell_type": "code",
   "execution_count": 14,
   "metadata": {},
   "outputs": [
    {
     "name": "stdout",
     "output_type": "stream",
     "text": [
      "All values are integers in the column.\n"
     ]
    }
   ],
   "source": [
    "try:\n",
    "    pd.to_numeric(df['Height (cm)'])\n",
    "    print(\"All values are integers in the column.\")\n",
    "except ValueError:\n",
    "    print(\"The column contains non-integer values.\")"
   ]
  },
  {
   "cell_type": "code",
   "execution_count": 21,
   "metadata": {},
   "outputs": [],
   "source": [
    "df['Height (cm)'].fillna(df['Height (cm)'].mean(),inplace=True)"
   ]
  },
  {
   "cell_type": "code",
   "execution_count": 22,
   "metadata": {},
   "outputs": [
    {
     "data": {
      "text/plain": [
       "ID                   0\n",
       "Age                  0\n",
       "Gender               0\n",
       "Height (cm)          0\n",
       "Weight (kg)         12\n",
       "Income ($)         679\n",
       "Education Level    340\n",
       "dtype: int64"
      ]
     },
     "execution_count": 22,
     "metadata": {},
     "output_type": "execute_result"
    }
   ],
   "source": [
    "df.isnull().sum()"
   ]
  },
  {
   "cell_type": "code",
   "execution_count": 18,
   "metadata": {},
   "outputs": [
    {
     "name": "stdout",
     "output_type": "stream",
     "text": [
      "All values are not integer\n"
     ]
    }
   ],
   "source": [
    "try:\n",
    "    pd.to_numeric(df['Weight (kg)'])\n",
    "    print('All values are integer')\n",
    "except ValueError:\n",
    "    print('All values are not integer')"
   ]
  },
  {
   "cell_type": "code",
   "execution_count": 19,
   "metadata": {},
   "outputs": [
    {
     "data": {
      "text/plain": [
       "0      187.0\n",
       "1      172.0\n",
       "2      146.0\n",
       "3      190.0\n",
       "4      181.0\n",
       "       ...  \n",
       "995    192.0\n",
       "996    168.0\n",
       "997    195.0\n",
       "998    153.0\n",
       "999    164.0\n",
       "Name: Height (cm), Length: 1000, dtype: float64"
      ]
     },
     "execution_count": 19,
     "metadata": {},
     "output_type": "execute_result"
    }
   ],
   "source": [
    "df['Weight (kg)']=pd.to_numeric(df['Weight (kg)'],errors='coerce')\n",
    "average_weight=df['Weight (kg)'].mean()\n",
    "df['Height (cm)'].fillna(average_height)\n"
   ]
  },
  {
   "cell_type": "code",
   "execution_count": 23,
   "metadata": {},
   "outputs": [],
   "source": [
    "df['Weight (kg)'].fillna(df['Weight (kg)'].mean(),inplace=True)"
   ]
  },
  {
   "cell_type": "code",
   "execution_count": 24,
   "metadata": {},
   "outputs": [
    {
     "data": {
      "text/plain": [
       "ID                   0\n",
       "Age                  0\n",
       "Gender               0\n",
       "Height (cm)          0\n",
       "Weight (kg)          0\n",
       "Income ($)         679\n",
       "Education Level    340\n",
       "dtype: int64"
      ]
     },
     "execution_count": 24,
     "metadata": {},
     "output_type": "execute_result"
    }
   ],
   "source": [
    "df.isnull().sum()"
   ]
  },
  {
   "cell_type": "code",
   "execution_count": 25,
   "metadata": {},
   "outputs": [
    {
     "name": "stdout",
     "output_type": "stream",
     "text": [
      "All not integer\n"
     ]
    }
   ],
   "source": [
    "try:\n",
    "    pd.to_numeric(df['Income ($)'])\n",
    "    print('All integer')\n",
    "except ValueError:\n",
    "    print('All not integer')"
   ]
  },
  {
   "cell_type": "code",
   "execution_count": 26,
   "metadata": {},
   "outputs": [
    {
     "data": {
      "text/plain": [
       "0      50292.895082\n",
       "1      50292.895082\n",
       "2      50292.895082\n",
       "3      74043.000000\n",
       "4      82046.000000\n",
       "           ...     \n",
       "995    14709.000000\n",
       "996    50292.895082\n",
       "997    50292.895082\n",
       "998    89681.000000\n",
       "999    50292.895082\n",
       "Name: Income ($), Length: 1000, dtype: float64"
      ]
     },
     "execution_count": 26,
     "metadata": {},
     "output_type": "execute_result"
    }
   ],
   "source": [
    "df['Income ($)']=pd.to_numeric(df['Income ($)'],errors='coerce')\n",
    "average_income=df['Income ($)'].mean()\n",
    "df['Income ($)'].fillna(average_income)"
   ]
  },
  {
   "cell_type": "code",
   "execution_count": 27,
   "metadata": {},
   "outputs": [],
   "source": [
    "df['Income ($)'].fillna(df['Income ($)'].mean(),inplace=True)"
   ]
  },
  {
   "cell_type": "code",
   "execution_count": 28,
   "metadata": {},
   "outputs": [
    {
     "data": {
      "text/plain": [
       "ID                   0\n",
       "Age                  0\n",
       "Gender               0\n",
       "Height (cm)          0\n",
       "Weight (kg)          0\n",
       "Income ($)           0\n",
       "Education Level    340\n",
       "dtype: int64"
      ]
     },
     "execution_count": 28,
     "metadata": {},
     "output_type": "execute_result"
    }
   ],
   "source": [
    "df.isnull().sum()"
   ]
  },
  {
   "cell_type": "code",
   "execution_count": 32,
   "metadata": {},
   "outputs": [],
   "source": [
    "df['Education Level'].fillna(df['Education Level'].mode()[0],inplace=True)"
   ]
  },
  {
   "cell_type": "code",
   "execution_count": 33,
   "metadata": {},
   "outputs": [
    {
     "data": {
      "text/plain": [
       "ID                 0\n",
       "Age                0\n",
       "Gender             0\n",
       "Height (cm)        0\n",
       "Weight (kg)        0\n",
       "Income ($)         0\n",
       "Education Level    0\n",
       "dtype: int64"
      ]
     },
     "execution_count": 33,
     "metadata": {},
     "output_type": "execute_result"
    }
   ],
   "source": [
    "df.isnull().sum()"
   ]
  },
  {
   "cell_type": "code",
   "execution_count": 34,
   "metadata": {},
   "outputs": [
    {
     "data": {
      "text/html": [
       "<div>\n",
       "<style scoped>\n",
       "    .dataframe tbody tr th:only-of-type {\n",
       "        vertical-align: middle;\n",
       "    }\n",
       "\n",
       "    .dataframe tbody tr th {\n",
       "        vertical-align: top;\n",
       "    }\n",
       "\n",
       "    .dataframe thead th {\n",
       "        text-align: right;\n",
       "    }\n",
       "</style>\n",
       "<table border=\"1\" class=\"dataframe\">\n",
       "  <thead>\n",
       "    <tr style=\"text-align: right;\">\n",
       "      <th></th>\n",
       "      <th>ID</th>\n",
       "      <th>Age</th>\n",
       "      <th>Height (cm)</th>\n",
       "      <th>Weight (kg)</th>\n",
       "      <th>Income ($)</th>\n",
       "    </tr>\n",
       "  </thead>\n",
       "  <tbody>\n",
       "    <tr>\n",
       "      <th>count</th>\n",
       "      <td>1000.000000</td>\n",
       "      <td>1000.000000</td>\n",
       "      <td>1000.000000</td>\n",
       "      <td>1000.000000</td>\n",
       "      <td>1000.000000</td>\n",
       "    </tr>\n",
       "    <tr>\n",
       "      <th>mean</th>\n",
       "      <td>50441.215000</td>\n",
       "      <td>55.034659</td>\n",
       "      <td>171.220305</td>\n",
       "      <td>94.621457</td>\n",
       "      <td>50292.895082</td>\n",
       "    </tr>\n",
       "    <tr>\n",
       "      <th>std</th>\n",
       "      <td>29044.113015</td>\n",
       "      <td>21.379146</td>\n",
       "      <td>17.396949</td>\n",
       "      <td>31.129817</td>\n",
       "      <td>16061.972962</td>\n",
       "    </tr>\n",
       "    <tr>\n",
       "      <th>min</th>\n",
       "      <td>80.000000</td>\n",
       "      <td>18.000000</td>\n",
       "      <td>140.000000</td>\n",
       "      <td>40.000000</td>\n",
       "      <td>856.000000</td>\n",
       "    </tr>\n",
       "    <tr>\n",
       "      <th>25%</th>\n",
       "      <td>24537.750000</td>\n",
       "      <td>37.000000</td>\n",
       "      <td>156.000000</td>\n",
       "      <td>69.000000</td>\n",
       "      <td>50292.895082</td>\n",
       "    </tr>\n",
       "    <tr>\n",
       "      <th>50%</th>\n",
       "      <td>49325.000000</td>\n",
       "      <td>55.034659</td>\n",
       "      <td>172.000000</td>\n",
       "      <td>94.000000</td>\n",
       "      <td>50292.895082</td>\n",
       "    </tr>\n",
       "    <tr>\n",
       "      <th>75%</th>\n",
       "      <td>76684.500000</td>\n",
       "      <td>74.000000</td>\n",
       "      <td>186.250000</td>\n",
       "      <td>121.000000</td>\n",
       "      <td>50292.895082</td>\n",
       "    </tr>\n",
       "    <tr>\n",
       "      <th>max</th>\n",
       "      <td>99922.000000</td>\n",
       "      <td>90.000000</td>\n",
       "      <td>200.000000</td>\n",
       "      <td>150.000000</td>\n",
       "      <td>99873.000000</td>\n",
       "    </tr>\n",
       "  </tbody>\n",
       "</table>\n",
       "</div>"
      ],
      "text/plain": [
       "                 ID          Age  Height (cm)  Weight (kg)    Income ($)\n",
       "count   1000.000000  1000.000000  1000.000000  1000.000000   1000.000000\n",
       "mean   50441.215000    55.034659   171.220305    94.621457  50292.895082\n",
       "std    29044.113015    21.379146    17.396949    31.129817  16061.972962\n",
       "min       80.000000    18.000000   140.000000    40.000000    856.000000\n",
       "25%    24537.750000    37.000000   156.000000    69.000000  50292.895082\n",
       "50%    49325.000000    55.034659   172.000000    94.000000  50292.895082\n",
       "75%    76684.500000    74.000000   186.250000   121.000000  50292.895082\n",
       "max    99922.000000    90.000000   200.000000   150.000000  99873.000000"
      ]
     },
     "execution_count": 34,
     "metadata": {},
     "output_type": "execute_result"
    }
   ],
   "source": [
    "df.describe()"
   ]
  },
  {
   "cell_type": "code",
   "execution_count": 60,
   "metadata": {},
   "outputs": [
    {
     "data": {
      "image/png": "[encoded data removed]",
      "text/plain": [
       "<Figure size 640x480 with 1 Axes>"
      ]
     },
     "metadata": {},
     "output_type": "display_data"
    }
   ],
   "source": [
    "sns.boxplot(x='Height (cm)',data=df)\n",
    "plt.show()"
   ]
  },
  {
   "cell_type": "code",
   "execution_count": 53,
   "metadata": {},
   "outputs": [],
   "source": [
    "q1=df['Height (cm)'].quantile(0.25)\n",
    "q3=df['Height (cm)'].quantile(0.75)"
   ]
  },
  {
   "cell_type": "code",
   "execution_count": 52,
   "metadata": {},
   "outputs": [
    {
     "data": {
      "text/plain": [
       "156.0"
      ]
     },
     "execution_count": 52,
     "metadata": {},
     "output_type": "execute_result"
    }
   ],
   "source": [
    "q1"
   ]
  },
  {
   "cell_type": "code",
   "execution_count": 54,
   "metadata": {},
   "outputs": [
    {
     "data": {
      "text/plain": [
       "186.25"
      ]
     },
     "execution_count": 54,
     "metadata": {},
     "output_type": "execute_result"
    }
   ],
   "source": [
    "q3"
   ]
  },
  {
   "cell_type": "code",
   "execution_count": 55,
   "metadata": {},
   "outputs": [],
   "source": [
    "IQR=q3-q1"
   ]
  },
  {
   "cell_type": "code",
   "execution_count": 56,
   "metadata": {},
   "outputs": [],
   "source": [
    "min_range=q1-(1.5*IQR)\n",
    "max_range=q3+(1.5*IQR)"
   ]
  },
  {
   "cell_type": "code",
   "execution_count": 57,
   "metadata": {},
   "outputs": [
    {
     "data": {
      "text/plain": [
       "(110.625, 231.625)"
      ]
     },
     "execution_count": 57,
     "metadata": {},
     "output_type": "execute_result"
    }
   ],
   "source": [
    "min_range,max_range"
   ]
  },
  {
   "cell_type": "code",
   "execution_count": 64,
   "metadata": {},
   "outputs": [],
   "source": [
    "dfq1=df[df['Height (cm)']<=max_range]"
   ]
  },
  {
   "cell_type": "code",
   "execution_count": 65,
   "metadata": {},
   "outputs": [
    {
     "data": {
      "text/plain": [
       "(1000, 7)"
      ]
     },
     "execution_count": 65,
     "metadata": {},
     "output_type": "execute_result"
    }
   ],
   "source": [
    "dfq1.shape"
   ]
  },
  {
   "cell_type": "markdown",
   "metadata": {},
   "source": [
    "# No Outliers Found"
   ]
  }
 ],
 "metadata": {
  "kernelspec": {
   "display_name": "Python 3",
   "language": "python",
   "name": "python3"
  },
  "language_info": {
   "codemirror_mode": {
    "name": "ipython",
    "version": 3
   },
   "file_extension": ".py",
   "mimetype": "text/x-python",
   "name": "python",
   "nbconvert_exporter": "python",
   "pygments_lexer": "ipython3",
   "version": "3.11.4"
  }
 },
 "nbformat": 4,
 "nbformat_minor": 2
}
